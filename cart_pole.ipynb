{
 "cells": [
  {
   "cell_type": "markdown",
   "metadata": {},
   "source": [
    "# Documentation de la librairie python d'odrive"
   ]
  },
  {
   "cell_type": "markdown",
   "metadata": {},
   "source": [
    "## Startup"
   ]
  },
  {
   "cell_type": "code",
   "execution_count": 1,
   "metadata": {},
   "outputs": [
    {
     "name": "stdout",
     "output_type": "stream",
     "text": [
      "0.5.1.dev\n"
     ]
    }
   ],
   "source": [
    "import time\n",
    "import numpy as np\n",
    "import matplotlib.pyplot as plt\n",
    "import tensorflow as tf\n",
    "%matplotlib inline\n",
    "\n",
    "import odrive\n",
    "from odrive.enums import *\n",
    "print(odrive.__version__)\n",
    "\n",
    "from models.actor import Actor\n",
    "from environments.cartpole import CartPoleEnv\n"
   ]
  },
  {
   "cell_type": "markdown",
   "metadata": {},
   "source": [
    "On peut trouver des infos ici : https://github.com/madcowswe/ODrive/tree/master/tools\n",
    "\n",
    "L'ensemble des enums : https://github.com/madcowswe/ODrive/blob/master/tools/odrive/enums.py"
   ]
  },
  {
   "cell_type": "code",
   "execution_count": 2,
   "metadata": {},
   "outputs": [
    {
     "name": "stdout",
     "output_type": "stream",
     "text": [
      "looking for an unpaired odrive...\n",
      "Odrive was found\n"
     ]
    }
   ],
   "source": [
    "print(\"looking for an unpaired odrive...\")\n",
    "try:\n",
    "    my_drive = odrive.find_any(timeout=15) # takes 8s to find.\n",
    "    print(\"Odrive was found\")\n",
    "except TimeoutError:\n",
    "    print(\"No device found\")\n",
    "\n",
    "#336731523536"
   ]
  },
  {
   "cell_type": "markdown",
   "metadata": {},
   "source": [
    "## Configuration"
   ]
  },
  {
   "cell_type": "code",
   "execution_count": 12,
   "metadata": {},
   "outputs": [
    {
     "data": {
      "text/plain": [
       "'\\naxis.controller.config.control_mode = CONTROL_MODE_VELOCITY_CONTROL \\naxis.controller.config.input_mode = INPUT_MODE_VEL_RAMP\\n'"
      ]
     },
     "execution_count": 12,
     "metadata": {},
     "output_type": "execute_result"
    }
   ],
   "source": [
    "for axis in [my_drive.axis1, my_drive.axis0]:\n",
    "\n",
    "    # V 0.5.1\n",
    "    axis.encoder.config.cpr = 4*600\n",
    "\n",
    "    axis.controller.config.pos_gain = 200.0\n",
    "    axis.controller.config.vel_gain = 0.02\n",
    "    axis.controller.config.vel_integrator_gain = 0#.01\n",
    "\n",
    "    axis.controller.config.vel_limit = 30\n",
    "    axis.controller.config.vel_limit_tolerance = 2\n",
    "\n",
    "    axis.controller.config.vel_ramp_rate = 1.0\n",
    "\n",
    "    axis.motor.config.current_lim = 10\n",
    "    axis.motor.config.calibration_current = 20\n",
    "\n",
    "    axis.trap_traj.config.vel_limit = 10\n",
    "\n",
    "\n",
    "    axis.controller.config.control_mode = CONTROL_MODE_POSITION_CONTROL \n",
    "    axis.controller.config.input_mode = INPUT_MODE_PASSTHROUGH#INPUT_MODE_TRAP_TRAJ\n",
    "\n",
    "axis = my_drive.axis1\n",
    "\"\"\"\n",
    "axis.controller.config.control_mode = CONTROL_MODE_VELOCITY_CONTROL \n",
    "axis.controller.config.input_mode = INPUT_MODE_VEL_RAMP\n",
    "\"\"\"\n"
   ]
  },
  {
   "cell_type": "markdown",
   "metadata": {},
   "source": [
    "## Une façon vachement pratique de lire les propriétés des Odrives"
   ]
  },
  {
   "cell_type": "code",
   "execution_count": 7,
   "metadata": {},
   "outputs": [],
   "source": [
    "axis.clear_errors()"
   ]
  },
  {
   "cell_type": "code",
   "execution_count": 4,
   "metadata": {},
   "outputs": [],
   "source": [
    "axis.requested_state = AXIS_STATE_FULL_CALIBRATION_SEQUENCE"
   ]
  },
  {
   "cell_type": "code",
   "execution_count": 8,
   "metadata": {},
   "outputs": [],
   "source": [
    "axis.requested_state = AXIS_STATE_CLOSED_LOOP_CONTROL"
   ]
  },
  {
   "cell_type": "code",
   "execution_count": 13,
   "metadata": {},
   "outputs": [],
   "source": [
    "axis.requested_state = AXIS_STATE_IDLE"
   ]
  },
  {
   "cell_type": "code",
   "execution_count": 35,
   "metadata": {},
   "outputs": [
    {
     "data": {
      "text/plain": [
       "error = 0x0000 (int)\n",
       "is_ready = True (bool)\n",
       "index_found = False (bool)\n",
       "shadow_count = 2884 (int)\n",
       "count_in_cpr = 484 (int)\n",
       "interpolation = 0.5 (float)\n",
       "phase = 0.17120909690856934 (float)\n",
       "pos_estimate = 1.2017236948013306 (float)\n",
       "pos_estimate_counts = 2884.13671875 (float)\n",
       "pos_cpr = 0.2017671763896942 (float)\n",
       "pos_cpr_counts = 484.2412109375 (float)\n",
       "pos_circular = 0.20259961485862732 (float)\n",
       "hall_state = 7 (int)\n",
       "vel_estimate = 0.0 (float)\n",
       "vel_estimate_counts = 0.0 (float)\n",
       "calib_scan_response = 2739.0 (float)\n",
       "pos_abs = 0 (int)\n",
       "spi_error_rate = 0.0 (float)\n",
       "config:\n",
       "  mode = 0 (int)\n",
       "  use_index = False (bool)\n",
       "  find_idx_on_lockin_only = False (bool)\n",
       "  abs_spi_cs_gpio_pin = 1 (int)\n",
       "  zero_count_on_find_idx = True (bool)\n",
       "  cpr = 2400 (int)\n",
       "  offset = -1239 (int)\n",
       "  pre_calibrated = False (bool)\n",
       "  offset_float = -0.12815624475479126 (float)\n",
       "  enable_phase_interpolation = True (bool)\n",
       "  bandwidth = 1000.0 (float)\n",
       "  calib_range = 0.019999999552965164 (float)\n",
       "  calib_scan_distance = 50.26548385620117 (float)\n",
       "  calib_scan_omega = 12.566370964050293 (float)\n",
       "  idx_search_unidirectional = False (bool)\n",
       "  ignore_illegal_hall_state = False (bool)\n",
       "  sincos_gpio_pin_sin = 3 (int)\n",
       "  sincos_gpio_pin_cos = 4 (int)\n",
       "set_linear_count(count: int)"
      ]
     },
     "execution_count": 35,
     "metadata": {},
     "output_type": "execute_result"
    }
   ],
   "source": [
    "axis.encoder.bandwidth"
   ]
  },
  {
   "cell_type": "markdown",
   "metadata": {},
   "source": [
    "## Initialisation"
   ]
  },
  {
   "cell_type": "code",
   "execution_count": 14,
   "metadata": {},
   "outputs": [
    {
     "data": {
      "image/png": "[encoded data removed]",
      "text/plain": [
       "<Figure size 432x288 with 1 Axes>"
      ]
     },
     "metadata": {
      "needs_background": "light"
     },
     "output_type": "display_data"
    },
    {
     "data": {
      "image/png": "[encoded data removed]",
      "text/plain": [
       "<Figure size 432x288 with 1 Axes>"
      ]
     },
     "metadata": {
      "needs_background": "light"
     },
     "output_type": "display_data"
    },
    {
     "data": {
      "text/plain": [
       "'\\nsafe_min = min_pos + 0.1/(0.002*20)\\nsafe_max = max_pos - 0.1/(0.002*20)\\n'"
      ]
     },
     "execution_count": 14,
     "metadata": {},
     "output_type": "execute_result"
    }
   ],
   "source": [
    "def get_end_pos (axis, homing_speed=-5):\n",
    "    \n",
    "    axis.controller.config.vel_limit = 30\n",
    "    axis.controller.config.vel_limit_tolerance = 2\n",
    "\n",
    "    axis.motor.config.current_lim = 10\n",
    "\n",
    "    axis.controller.config.control_mode = CONTROL_MODE_POSITION_CONTROL \n",
    "    axis.controller.config.input_mode = INPUT_MODE_PASSTHROUGH#INPUT_MODE_TRAP_TRAJ\n",
    "\n",
    "    axis.requested_state = AXIS_STATE_CLOSED_LOOP_CONTROL\n",
    "    \n",
    "    start_pos = my_drive.axis1.controller.input_pos\n",
    "    start_time = time.time()\n",
    "    \n",
    "    end_found = False\n",
    "    failsafe = False\n",
    "    end_pos = 0\n",
    "    \n",
    "    all_current = []\n",
    "    while not end_found and not failsafe:\n",
    "        dt = time.time()-start_time\n",
    "        my_drive.axis1.controller.input_pos = start_pos + dt * homing_speed\n",
    "        all_current.append(axis.motor.current_control.Iq_measured)\n",
    "        if np.abs(axis.motor.current_control.Iq_measured) > 9:\n",
    "            end_found = True\n",
    "            end_pos = axis.encoder.pos_estimate\n",
    "        if dt > 30:\n",
    "            failsafe = True\n",
    "    \n",
    "    axis.requested_state = AXIS_STATE_IDLE\n",
    "    \n",
    "    plt.plot(all_current)\n",
    "    plt.show()\n",
    "    return end_pos\n",
    "\n",
    "def goto (axis, abs_pos):\n",
    "    \n",
    "    axis.controller.config.vel_limit = 30\n",
    "    axis.controller.config.vel_limit_tolerance = 2\n",
    "\n",
    "    axis.motor.config.current_lim = 10\n",
    "\n",
    "    axis.controller.config.control_mode = CONTROL_MODE_POSITION_CONTROL \n",
    "    axis.controller.config.input_mode = INPUT_MODE_TRAP_TRAJ\n",
    "    \n",
    "    axis.trap_traj.config.vel_limit = 20\n",
    "    axis.trap_traj.config.accel_limit = 30\n",
    "    axis.trap_traj.config.decel_limit = 30\n",
    "    \n",
    "    axis.requested_state = AXIS_STATE_CLOSED_LOOP_CONTROL\n",
    "    \n",
    "    my_drive.axis1.controller.input_pos = abs_pos\n",
    "    move_done = False\n",
    "    while not move_done:\n",
    "        if np.abs(abs_pos - axis.encoder.pos_estimate) < 0.1:\n",
    "            move_done = True\n",
    "    \n",
    "    \n",
    "    axis.requested_state = AXIS_STATE_IDLE\n",
    "\n",
    "def startup (axis):\n",
    "    wakeup_pos = axis.encoder.pos_estimate\n",
    "    min_pos = get_end_pos(axis, homing_speed=-5)\n",
    "    goto(axis, wakeup_pos)\n",
    "    max_pos = get_end_pos(axis, homing_speed=5)\n",
    "    goto(axis, (min_pos+max_pos)/2)\n",
    "    return min_pos, max_pos\n",
    "\n",
    "min_pos, max_pos = startup(axis)\n",
    "\"\"\"\n",
    "safe_min = min_pos + 0.1/(0.002*20)\n",
    "safe_max = max_pos - 0.1/(0.002*20)\n",
    "\"\"\"\n",
    "\n"
   ]
  },
  {
   "cell_type": "markdown",
   "metadata": {},
   "source": [
    "# Test du model entrainé en simulation"
   ]
  },
  {
   "cell_type": "code",
   "execution_count": 15,
   "metadata": {},
   "outputs": [
    {
     "name": "stdout",
     "output_type": "stream",
     "text": [
      "-15.631745338439941 6.035671234130859\n",
      "-13.548037052154541 3.951962947845459\n",
      "0.5\n"
     ]
    },
    {
     "data": {
      "text/plain": [
       "'\\ntime.sleep(3)\\nx, v, a, w = get_state(motor_axis, encoder_axis, x_zero, a_zero)\\ne = env.calc_e(x, v, a, w)\\nprint(x, v, a, w)\\nprint(e)\\n'"
      ]
     },
     "execution_count": 15,
     "metadata": {},
     "output_type": "execute_result"
    }
   ],
   "source": [
    "\"\"\"\n",
    "def setup_cmd (axis):\n",
    "    axis.controller.config.vel_limit = 30\n",
    "    axis.controller.config.vel_limit_tolerance = 2\n",
    "\n",
    "    axis.motor.config.current_lim = 20\n",
    "\n",
    "    axis.controller.config.control_mode = CONTROL_MODE_POSITION_CONTROL \n",
    "    axis.controller.config.input_mode = INPUT_MODE_TRAP_TRAJ\n",
    "    \n",
    "    axis.trap_traj.config.accel_limit = 300\n",
    "    axis.trap_traj.config.decel_limit = 300\n",
    "    \n",
    "    axis.requested_state = AXIS_STATE_CLOSED_LOOP_CONTROL\n",
    "    \n",
    "\n",
    "def set_cmd (axis, cmd_x, cmd_vel, safe_min, safe_max):\n",
    "    motor_pos = axis.encoder.pos_estimate\n",
    "    if motor_pos < safe_min or motor_pos > safe_max:\n",
    "        axis.requested_state = AXIS_STATE_IDLE\n",
    "        return False\n",
    "    \n",
    "    cmd_motor_pos = cmd_x/(0.002*20) + x_zero\n",
    "    cmd_motor_vel = cmd_vel/(0.002*20)\n",
    "    \n",
    "    axis.trap_traj.config.vel_limit = cmd_motor_vel\n",
    "    my_drive.axis1.controller.input_pos = cmd_motor_pos\n",
    "    return True\n",
    "\"\"\"\n",
    "\n",
    "\n",
    "def setup_vel_cmd (axis):\n",
    "    axis.controller.config.vel_limit = 30\n",
    "    axis.controller.config.vel_limit_tolerance = 2\n",
    "\n",
    "    axis.motor.config.current_lim = 20\n",
    "\n",
    "    axis.controller.config.control_mode = CONTROL_MODE_POSITION_CONTROL \n",
    "    axis.controller.config.input_mode = INPUT_MODE_TRAP_TRAJ\n",
    "    \n",
    "    axis.trap_traj.config.accel_limit = 300\n",
    "    axis.trap_traj.config.decel_limit = 300\n",
    "    \n",
    "    axis.requested_state = AXIS_STATE_CLOSED_LOOP_CONTROL\n",
    "    \n",
    "\n",
    "def set_vel_cmd (axis, cmd_vel, safe_min, safe_max, delta_target_pos=1):\n",
    "    motor_pos = axis.encoder.pos_estimate\n",
    "    \"\"\"\n",
    "    if motor_pos < safe_min or motor_pos > safe_max:\n",
    "        axis.requested_state = AXIS_STATE_IDLE\n",
    "        return False\n",
    "    \"\"\"\n",
    "    if motor_pos < safe_min:\n",
    "        cmd_vel = max(0, cmd_vel)\n",
    "    if motor_pos > safe_max:\n",
    "        cmd_vel = min(0, cmd_vel)\n",
    "    \n",
    "    cmd_motor_vel = cmd_vel/(0.002*20)\n",
    "    if cmd_motor_vel > 0:\n",
    "        axis.trap_traj.config.vel_limit = cmd_motor_vel\n",
    "        my_drive.axis1.controller.input_pos = safe_max + delta_target_pos\n",
    "    elif cmd_motor_vel < 0:\n",
    "        axis.trap_traj.config.vel_limit = -cmd_motor_vel\n",
    "        my_drive.axis1.controller.input_pos = safe_min - delta_target_pos\n",
    "    return True\n",
    "\n",
    "def get_state (motor_axis, encoder_axis, x_zero, a_zero):\n",
    "    mot_pos = motor_axis.encoder.pos_estimate - x_zero\n",
    "    mot_vel = motor_axis.encoder.vel_estimate\n",
    "    enc_pos = encoder_axis.encoder.pos_estimate - a_zero\n",
    "    enc_vel = encoder_axis.encoder.vel_estimate\n",
    "    x = mot_pos*(0.002*20)\n",
    "    v = mot_vel*(0.002*20)\n",
    "    a = -enc_pos*2*np.pi\n",
    "    w = -enc_vel*2*np.pi\n",
    "    return x, v, a, w\n",
    "\n",
    "env = CartPoleEnv()\n",
    "env.reset()\n",
    "env.bench_len=0.3\n",
    "\n",
    "motor_axis = my_drive.axis1\n",
    "encoder_axis = my_drive.axis0\n",
    "\n",
    "a_zero = encoder_axis.encoder.pos_estimate + 0.5\n",
    "x_zero = (max_pos + min_pos)/2 \n",
    "safe_min = x_zero - env.x_total_max/(0.002*20)\n",
    "safe_max = x_zero + env.x_total_max/(0.002*20)\n",
    "\n",
    "print(min_pos, max_pos)\n",
    "print(safe_min, safe_max)\n",
    "\n",
    "print(env.v_max)\n",
    "\"\"\"\n",
    "time.sleep(3)\n",
    "x, v, a, w = get_state(motor_axis, encoder_axis, x_zero, a_zero)\n",
    "e = env.calc_e(x, v, a, w)\n",
    "print(x, v, a, w)\n",
    "print(e)\n",
    "\"\"\""
   ]
  },
  {
   "cell_type": "code",
   "execution_count": null,
   "metadata": {},
   "outputs": [],
   "source": [
    "motor_axis.requested_state = AXIS_STATE_IDLE"
   ]
  },
  {
   "cell_type": "code",
   "execution_count": 47,
   "metadata": {},
   "outputs": [
    {
     "name": "stdout",
     "output_type": "stream",
     "text": [
      "WARNING : no obs range definded. Proceed with caution\n"
     ]
    },
    {
     "ename": "ValueError",
     "evalue": "Shapes (256,) and (512,) are incompatible",
     "output_type": "error",
     "traceback": [
      "\u001b[1;31m---------------------------------------------------------------------------\u001b[0m",
      "\u001b[1;31mValueError\u001b[0m                                Traceback (most recent call last)",
      "\u001b[1;32m<ipython-input-47-9b39a69e71a4>\u001b[0m in \u001b[0;36m<module>\u001b[1;34m\u001b[0m\n\u001b[0;32m     10\u001b[0m \u001b[0mactor\u001b[0m \u001b[1;33m=\u001b[0m \u001b[0mActor\u001b[0m\u001b[1;33m(\u001b[0m\u001b[0menv\u001b[0m\u001b[1;33m)\u001b[0m\u001b[1;33m\u001b[0m\u001b[1;33m\u001b[0m\u001b[0m\n\u001b[0;32m     11\u001b[0m \u001b[0mactor\u001b[0m\u001b[1;33m.\u001b[0m\u001b[0mload_primitive\u001b[0m\u001b[1;33m(\u001b[0m\u001b[0mpath\u001b[0m\u001b[1;33m)\u001b[0m\u001b[1;33m\u001b[0m\u001b[1;33m\u001b[0m\u001b[0m\n\u001b[1;32m---> 12\u001b[1;33m \u001b[0mactor\u001b[0m\u001b[1;33m.\u001b[0m\u001b[0mload_influence\u001b[0m\u001b[1;33m(\u001b[0m\u001b[0mpath\u001b[0m\u001b[1;33m)\u001b[0m\u001b[1;33m\u001b[0m\u001b[1;33m\u001b[0m\u001b[0m\n\u001b[0m\u001b[0;32m     13\u001b[0m \u001b[1;33m\u001b[0m\u001b[0m\n\u001b[0;32m     14\u001b[0m \u001b[0minit_state\u001b[0m \u001b[1;33m=\u001b[0m \u001b[0mactor\u001b[0m\u001b[1;33m.\u001b[0m\u001b[0mget_init_state\u001b[0m\u001b[1;33m(\u001b[0m\u001b[0menv\u001b[0m\u001b[1;33m.\u001b[0m\u001b[0mnum_envs\u001b[0m\u001b[1;33m)\u001b[0m\u001b[1;33m\u001b[0m\u001b[1;33m\u001b[0m\u001b[0m\n",
      "\u001b[1;32m~\\Documents\\Travail\\PSC\\idefX\\v0\\studies\\remote_ppo\\v7\\models\\actor.py\u001b[0m in \u001b[0;36mload_influence\u001b[1;34m(self, path)\u001b[0m\n\u001b[0;32m    190\u001b[0m                 \u001b[0mself\u001b[0m\u001b[1;33m.\u001b[0m\u001b[0mprimitive_model\u001b[0m\u001b[1;33m.\u001b[0m\u001b[0mload_weights\u001b[0m\u001b[1;33m(\u001b[0m\u001b[0mpath\u001b[0m\u001b[1;33m.\u001b[0m\u001b[0mformat\u001b[0m\u001b[1;33m(\u001b[0m\u001b[1;34m\"actor\"\u001b[0m\u001b[1;33m,\u001b[0m \u001b[1;34m\"primitives\"\u001b[0m\u001b[1;33m)\u001b[0m\u001b[1;33m)\u001b[0m\u001b[1;33m\u001b[0m\u001b[1;33m\u001b[0m\u001b[0m\n\u001b[0;32m    191\u001b[0m         \u001b[1;32mdef\u001b[0m \u001b[0mload_influence\u001b[0m \u001b[1;33m(\u001b[0m\u001b[0mself\u001b[0m\u001b[1;33m,\u001b[0m \u001b[0mpath\u001b[0m\u001b[1;33m)\u001b[0m\u001b[1;33m:\u001b[0m\u001b[1;33m\u001b[0m\u001b[1;33m\u001b[0m\u001b[0m\n\u001b[1;32m--> 192\u001b[1;33m                 \u001b[0mself\u001b[0m\u001b[1;33m.\u001b[0m\u001b[0minfluence_model\u001b[0m\u001b[1;33m.\u001b[0m\u001b[0mload_weights\u001b[0m\u001b[1;33m(\u001b[0m\u001b[0mpath\u001b[0m\u001b[1;33m.\u001b[0m\u001b[0mformat\u001b[0m\u001b[1;33m(\u001b[0m\u001b[1;34m\"actor\"\u001b[0m\u001b[1;33m,\u001b[0m \u001b[1;34m\"influence\"\u001b[0m\u001b[1;33m)\u001b[0m\u001b[1;33m)\u001b[0m\u001b[1;33m\u001b[0m\u001b[1;33m\u001b[0m\u001b[0m\n\u001b[0m\u001b[0;32m    193\u001b[0m         \u001b[1;32mdef\u001b[0m \u001b[0mload_specific_primitive\u001b[0m \u001b[1;33m(\u001b[0m\u001b[0mself\u001b[0m\u001b[1;33m,\u001b[0m \u001b[0mpath\u001b[0m\u001b[1;33m,\u001b[0m \u001b[0mi\u001b[0m\u001b[1;33m)\u001b[0m\u001b[1;33m:\u001b[0m\u001b[1;33m\u001b[0m\u001b[1;33m\u001b[0m\u001b[0m\n\u001b[0;32m    194\u001b[0m                 \u001b[0mself\u001b[0m\u001b[1;33m.\u001b[0m\u001b[0mall_primitives_models\u001b[0m\u001b[1;33m[\u001b[0m\u001b[0mi\u001b[0m\u001b[1;33m]\u001b[0m\u001b[1;33m.\u001b[0m\u001b[0mload_weights\u001b[0m\u001b[1;33m(\u001b[0m\u001b[0mpath\u001b[0m\u001b[1;33m.\u001b[0m\u001b[0mformat\u001b[0m\u001b[1;33m(\u001b[0m\u001b[1;34m\"actor\"\u001b[0m\u001b[1;33m,\u001b[0m \u001b[1;34m\"primitive\"\u001b[0m\u001b[1;33m)\u001b[0m\u001b[1;33m)\u001b[0m\u001b[1;33m\u001b[0m\u001b[1;33m\u001b[0m\u001b[0m\n",
      "\u001b[1;32m~\\Anaconda3\\envs\\odrive\\lib\\site-packages\\tensorflow_core\\python\\keras\\engine\\training.py\u001b[0m in \u001b[0;36mload_weights\u001b[1;34m(self, filepath, by_name, skip_mismatch)\u001b[0m\n\u001b[0;32m    232\u001b[0m         raise ValueError('Load weights is not yet supported with TPUStrategy '\n\u001b[0;32m    233\u001b[0m                          'with steps_per_run greater than 1.')\n\u001b[1;32m--> 234\u001b[1;33m     \u001b[1;32mreturn\u001b[0m \u001b[0msuper\u001b[0m\u001b[1;33m(\u001b[0m\u001b[0mModel\u001b[0m\u001b[1;33m,\u001b[0m \u001b[0mself\u001b[0m\u001b[1;33m)\u001b[0m\u001b[1;33m.\u001b[0m\u001b[0mload_weights\u001b[0m\u001b[1;33m(\u001b[0m\u001b[0mfilepath\u001b[0m\u001b[1;33m,\u001b[0m \u001b[0mby_name\u001b[0m\u001b[1;33m,\u001b[0m \u001b[0mskip_mismatch\u001b[0m\u001b[1;33m)\u001b[0m\u001b[1;33m\u001b[0m\u001b[1;33m\u001b[0m\u001b[0m\n\u001b[0m\u001b[0;32m    235\u001b[0m \u001b[1;33m\u001b[0m\u001b[0m\n\u001b[0;32m    236\u001b[0m   \u001b[1;33m@\u001b[0m\u001b[0mtrackable\u001b[0m\u001b[1;33m.\u001b[0m\u001b[0mno_automatic_dependency_tracking\u001b[0m\u001b[1;33m\u001b[0m\u001b[1;33m\u001b[0m\u001b[0m\n",
      "\u001b[1;32m~\\Anaconda3\\envs\\odrive\\lib\\site-packages\\tensorflow_core\\python\\keras\\engine\\network.py\u001b[0m in \u001b[0;36mload_weights\u001b[1;34m(self, filepath, by_name, skip_mismatch)\u001b[0m\n\u001b[0;32m   1191\u001b[0m         \u001b[0msave_format\u001b[0m \u001b[1;33m=\u001b[0m \u001b[1;34m'h5'\u001b[0m\u001b[1;33m\u001b[0m\u001b[1;33m\u001b[0m\u001b[0m\n\u001b[0;32m   1192\u001b[0m     \u001b[1;32mif\u001b[0m \u001b[0msave_format\u001b[0m \u001b[1;33m==\u001b[0m \u001b[1;34m'tf'\u001b[0m\u001b[1;33m:\u001b[0m\u001b[1;33m\u001b[0m\u001b[1;33m\u001b[0m\u001b[0m\n\u001b[1;32m-> 1193\u001b[1;33m       \u001b[0mstatus\u001b[0m \u001b[1;33m=\u001b[0m \u001b[0mself\u001b[0m\u001b[1;33m.\u001b[0m\u001b[0m_trackable_saver\u001b[0m\u001b[1;33m.\u001b[0m\u001b[0mrestore\u001b[0m\u001b[1;33m(\u001b[0m\u001b[0mfilepath\u001b[0m\u001b[1;33m)\u001b[0m\u001b[1;33m\u001b[0m\u001b[1;33m\u001b[0m\u001b[0m\n\u001b[0m\u001b[0;32m   1194\u001b[0m       \u001b[1;32mif\u001b[0m \u001b[0mby_name\u001b[0m\u001b[1;33m:\u001b[0m\u001b[1;33m\u001b[0m\u001b[1;33m\u001b[0m\u001b[0m\n\u001b[0;32m   1195\u001b[0m         raise NotImplementedError(\n",
      "\u001b[1;32m~\\Anaconda3\\envs\\odrive\\lib\\site-packages\\tensorflow_core\\python\\training\\tracking\\util.py\u001b[0m in \u001b[0;36mrestore\u001b[1;34m(self, save_path)\u001b[0m\n\u001b[0;32m   1281\u001b[0m         graph_view=self._graph_view)\n\u001b[0;32m   1282\u001b[0m     base.CheckpointPosition(\n\u001b[1;32m-> 1283\u001b[1;33m         checkpoint=checkpoint, proto_id=0).restore(self._graph_view.root)\n\u001b[0m\u001b[0;32m   1284\u001b[0m     load_status = CheckpointLoadStatus(\n\u001b[0;32m   1285\u001b[0m         \u001b[0mcheckpoint\u001b[0m\u001b[1;33m,\u001b[0m\u001b[1;33m\u001b[0m\u001b[1;33m\u001b[0m\u001b[0m\n",
      "\u001b[1;32m~\\Anaconda3\\envs\\odrive\\lib\\site-packages\\tensorflow_core\\python\\training\\tracking\\base.py\u001b[0m in \u001b[0;36mrestore\u001b[1;34m(self, trackable)\u001b[0m\n\u001b[0;32m    207\u001b[0m         \u001b[1;31m# This object's correspondence with a checkpointed object is new, so\u001b[0m\u001b[1;33m\u001b[0m\u001b[1;33m\u001b[0m\u001b[1;33m\u001b[0m\u001b[0m\n\u001b[0;32m    208\u001b[0m         \u001b[1;31m# process deferred restorations for it and its dependencies.\u001b[0m\u001b[1;33m\u001b[0m\u001b[1;33m\u001b[0m\u001b[1;33m\u001b[0m\u001b[0m\n\u001b[1;32m--> 209\u001b[1;33m         \u001b[0mrestore_ops\u001b[0m \u001b[1;33m=\u001b[0m \u001b[0mtrackable\u001b[0m\u001b[1;33m.\u001b[0m\u001b[0m_restore_from_checkpoint_position\u001b[0m\u001b[1;33m(\u001b[0m\u001b[0mself\u001b[0m\u001b[1;33m)\u001b[0m  \u001b[1;31m# pylint: disable=protected-access\u001b[0m\u001b[1;33m\u001b[0m\u001b[1;33m\u001b[0m\u001b[0m\n\u001b[0m\u001b[0;32m    210\u001b[0m         \u001b[1;32mif\u001b[0m \u001b[0mrestore_ops\u001b[0m\u001b[1;33m:\u001b[0m\u001b[1;33m\u001b[0m\u001b[1;33m\u001b[0m\u001b[0m\n\u001b[0;32m    211\u001b[0m           \u001b[0mself\u001b[0m\u001b[1;33m.\u001b[0m\u001b[0m_checkpoint\u001b[0m\u001b[1;33m.\u001b[0m\u001b[0mnew_restore_ops\u001b[0m\u001b[1;33m(\u001b[0m\u001b[0mrestore_ops\u001b[0m\u001b[1;33m)\u001b[0m\u001b[1;33m\u001b[0m\u001b[1;33m\u001b[0m\u001b[0m\n",
      "\u001b[1;32m~\\Anaconda3\\envs\\odrive\\lib\\site-packages\\tensorflow_core\\python\\training\\tracking\\base.py\u001b[0m in \u001b[0;36m_restore_from_checkpoint_position\u001b[1;34m(self, checkpoint_position)\u001b[0m\n\u001b[0;32m    906\u001b[0m     restore_ops.extend(\n\u001b[0;32m    907\u001b[0m         current_position.checkpoint.restore_saveables(\n\u001b[1;32m--> 908\u001b[1;33m             tensor_saveables, python_saveables))\n\u001b[0m\u001b[0;32m    909\u001b[0m     \u001b[1;32mreturn\u001b[0m \u001b[0mrestore_ops\u001b[0m\u001b[1;33m\u001b[0m\u001b[1;33m\u001b[0m\u001b[0m\n\u001b[0;32m    910\u001b[0m \u001b[1;33m\u001b[0m\u001b[0m\n",
      "\u001b[1;32m~\\Anaconda3\\envs\\odrive\\lib\\site-packages\\tensorflow_core\\python\\training\\tracking\\util.py\u001b[0m in \u001b[0;36mrestore_saveables\u001b[1;34m(self, tensor_saveables, python_saveables)\u001b[0m\n\u001b[0;32m    287\u001b[0m              \"expecting %s\") % (tensor_saveables.keys(), validated_names))\n\u001b[0;32m    288\u001b[0m       new_restore_ops = functional_saver.MultiDeviceSaver(\n\u001b[1;32m--> 289\u001b[1;33m           validated_saveables).restore(self.save_path_tensor)\n\u001b[0m\u001b[0;32m    290\u001b[0m       \u001b[1;32mif\u001b[0m \u001b[1;32mnot\u001b[0m \u001b[0mcontext\u001b[0m\u001b[1;33m.\u001b[0m\u001b[0mexecuting_eagerly\u001b[0m\u001b[1;33m(\u001b[0m\u001b[1;33m)\u001b[0m\u001b[1;33m:\u001b[0m\u001b[1;33m\u001b[0m\u001b[1;33m\u001b[0m\u001b[0m\n\u001b[0;32m    291\u001b[0m         \u001b[1;32mfor\u001b[0m \u001b[0mname\u001b[0m\u001b[1;33m,\u001b[0m \u001b[0mrestore_op\u001b[0m \u001b[1;32min\u001b[0m \u001b[0msorted\u001b[0m\u001b[1;33m(\u001b[0m\u001b[0mnew_restore_ops\u001b[0m\u001b[1;33m.\u001b[0m\u001b[0mitems\u001b[0m\u001b[1;33m(\u001b[0m\u001b[1;33m)\u001b[0m\u001b[1;33m)\u001b[0m\u001b[1;33m:\u001b[0m\u001b[1;33m\u001b[0m\u001b[1;33m\u001b[0m\u001b[0m\n",
      "\u001b[1;32m~\\Anaconda3\\envs\\odrive\\lib\\site-packages\\tensorflow_core\\python\\training\\saving\\functional_saver.py\u001b[0m in \u001b[0;36mrestore\u001b[1;34m(self, file_prefix)\u001b[0m\n\u001b[0;32m    253\u001b[0m     \u001b[1;32mfor\u001b[0m \u001b[0mdevice\u001b[0m\u001b[1;33m,\u001b[0m \u001b[0msaver\u001b[0m \u001b[1;32min\u001b[0m \u001b[0msorted\u001b[0m\u001b[1;33m(\u001b[0m\u001b[0mself\u001b[0m\u001b[1;33m.\u001b[0m\u001b[0m_single_device_savers\u001b[0m\u001b[1;33m.\u001b[0m\u001b[0mitems\u001b[0m\u001b[1;33m(\u001b[0m\u001b[1;33m)\u001b[0m\u001b[1;33m)\u001b[0m\u001b[1;33m:\u001b[0m\u001b[1;33m\u001b[0m\u001b[1;33m\u001b[0m\u001b[0m\n\u001b[0;32m    254\u001b[0m       \u001b[1;32mwith\u001b[0m \u001b[0mops\u001b[0m\u001b[1;33m.\u001b[0m\u001b[0mdevice\u001b[0m\u001b[1;33m(\u001b[0m\u001b[0mdevice\u001b[0m\u001b[1;33m)\u001b[0m\u001b[1;33m:\u001b[0m\u001b[1;33m\u001b[0m\u001b[1;33m\u001b[0m\u001b[0m\n\u001b[1;32m--> 255\u001b[1;33m         \u001b[0mrestore_ops\u001b[0m\u001b[1;33m.\u001b[0m\u001b[0mupdate\u001b[0m\u001b[1;33m(\u001b[0m\u001b[0msaver\u001b[0m\u001b[1;33m.\u001b[0m\u001b[0mrestore\u001b[0m\u001b[1;33m(\u001b[0m\u001b[0mfile_prefix\u001b[0m\u001b[1;33m)\u001b[0m\u001b[1;33m)\u001b[0m\u001b[1;33m\u001b[0m\u001b[1;33m\u001b[0m\u001b[0m\n\u001b[0m\u001b[0;32m    256\u001b[0m     \u001b[1;32mreturn\u001b[0m \u001b[0mrestore_ops\u001b[0m\u001b[1;33m\u001b[0m\u001b[1;33m\u001b[0m\u001b[0m\n",
      "\u001b[1;32m~\\Anaconda3\\envs\\odrive\\lib\\site-packages\\tensorflow_core\\python\\training\\saving\\functional_saver.py\u001b[0m in \u001b[0;36mrestore\u001b[1;34m(self, file_prefix)\u001b[0m\n\u001b[0;32m    100\u001b[0m                                           structured_restored_tensors):\n\u001b[0;32m    101\u001b[0m       restore_ops[saveable.name] = saveable.restore(\n\u001b[1;32m--> 102\u001b[1;33m           restored_tensors, restored_shapes=None)\n\u001b[0m\u001b[0;32m    103\u001b[0m     \u001b[1;32mreturn\u001b[0m \u001b[0mrestore_ops\u001b[0m\u001b[1;33m\u001b[0m\u001b[1;33m\u001b[0m\u001b[0m\n\u001b[0;32m    104\u001b[0m \u001b[1;33m\u001b[0m\u001b[0m\n",
      "\u001b[1;32m~\\Anaconda3\\envs\\odrive\\lib\\site-packages\\tensorflow_core\\python\\training\\saving\\saveable_object_util.py\u001b[0m in \u001b[0;36mrestore\u001b[1;34m(self, restored_tensors, restored_shapes)\u001b[0m\n\u001b[0;32m    114\u001b[0m       \u001b[0mrestored_tensor\u001b[0m \u001b[1;33m=\u001b[0m \u001b[0marray_ops\u001b[0m\u001b[1;33m.\u001b[0m\u001b[0midentity\u001b[0m\u001b[1;33m(\u001b[0m\u001b[0mrestored_tensor\u001b[0m\u001b[1;33m)\u001b[0m\u001b[1;33m\u001b[0m\u001b[1;33m\u001b[0m\u001b[0m\n\u001b[0;32m    115\u001b[0m       return resource_variable_ops.shape_safe_assign_variable_handle(\n\u001b[1;32m--> 116\u001b[1;33m           self.handle_op, self._var_shape, restored_tensor)\n\u001b[0m\u001b[0;32m    117\u001b[0m \u001b[1;33m\u001b[0m\u001b[0m\n\u001b[0;32m    118\u001b[0m \u001b[1;33m\u001b[0m\u001b[0m\n",
      "\u001b[1;32m~\\Anaconda3\\envs\\odrive\\lib\\site-packages\\tensorflow_core\\python\\ops\\resource_variable_ops.py\u001b[0m in \u001b[0;36mshape_safe_assign_variable_handle\u001b[1;34m(handle, shape, value, name)\u001b[0m\n\u001b[0;32m    295\u001b[0m   \u001b[1;32mwith\u001b[0m \u001b[0m_handle_graph\u001b[0m\u001b[1;33m(\u001b[0m\u001b[0mhandle\u001b[0m\u001b[1;33m)\u001b[0m\u001b[1;33m:\u001b[0m\u001b[1;33m\u001b[0m\u001b[1;33m\u001b[0m\u001b[0m\n\u001b[0;32m    296\u001b[0m     \u001b[0mvalue_tensor\u001b[0m \u001b[1;33m=\u001b[0m \u001b[0mops\u001b[0m\u001b[1;33m.\u001b[0m\u001b[0mconvert_to_tensor\u001b[0m\u001b[1;33m(\u001b[0m\u001b[0mvalue\u001b[0m\u001b[1;33m)\u001b[0m\u001b[1;33m\u001b[0m\u001b[1;33m\u001b[0m\u001b[0m\n\u001b[1;32m--> 297\u001b[1;33m   \u001b[0mshape\u001b[0m\u001b[1;33m.\u001b[0m\u001b[0massert_is_compatible_with\u001b[0m\u001b[1;33m(\u001b[0m\u001b[0mvalue_tensor\u001b[0m\u001b[1;33m.\u001b[0m\u001b[0mshape\u001b[0m\u001b[1;33m)\u001b[0m\u001b[1;33m\u001b[0m\u001b[1;33m\u001b[0m\u001b[0m\n\u001b[0m\u001b[0;32m    298\u001b[0m   return gen_resource_variable_ops.assign_variable_op(handle,\n\u001b[0;32m    299\u001b[0m                                                       \u001b[0mvalue_tensor\u001b[0m\u001b[1;33m,\u001b[0m\u001b[1;33m\u001b[0m\u001b[1;33m\u001b[0m\u001b[0m\n",
      "\u001b[1;32m~\\Anaconda3\\envs\\odrive\\lib\\site-packages\\tensorflow_core\\python\\framework\\tensor_shape.py\u001b[0m in \u001b[0;36massert_is_compatible_with\u001b[1;34m(self, other)\u001b[0m\n\u001b[0;32m   1108\u001b[0m     \"\"\"\n\u001b[0;32m   1109\u001b[0m     \u001b[1;32mif\u001b[0m \u001b[1;32mnot\u001b[0m \u001b[0mself\u001b[0m\u001b[1;33m.\u001b[0m\u001b[0mis_compatible_with\u001b[0m\u001b[1;33m(\u001b[0m\u001b[0mother\u001b[0m\u001b[1;33m)\u001b[0m\u001b[1;33m:\u001b[0m\u001b[1;33m\u001b[0m\u001b[1;33m\u001b[0m\u001b[0m\n\u001b[1;32m-> 1110\u001b[1;33m       \u001b[1;32mraise\u001b[0m \u001b[0mValueError\u001b[0m\u001b[1;33m(\u001b[0m\u001b[1;34m\"Shapes %s and %s are incompatible\"\u001b[0m \u001b[1;33m%\u001b[0m \u001b[1;33m(\u001b[0m\u001b[0mself\u001b[0m\u001b[1;33m,\u001b[0m \u001b[0mother\u001b[0m\u001b[1;33m)\u001b[0m\u001b[1;33m)\u001b[0m\u001b[1;33m\u001b[0m\u001b[1;33m\u001b[0m\u001b[0m\n\u001b[0m\u001b[0;32m   1111\u001b[0m \u001b[1;33m\u001b[0m\u001b[0m\n\u001b[0;32m   1112\u001b[0m   \u001b[1;32mdef\u001b[0m \u001b[0mmost_specific_compatible_shape\u001b[0m\u001b[1;33m(\u001b[0m\u001b[0mself\u001b[0m\u001b[1;33m,\u001b[0m \u001b[0mother\u001b[0m\u001b[1;33m)\u001b[0m\u001b[1;33m:\u001b[0m\u001b[1;33m\u001b[0m\u001b[1;33m\u001b[0m\u001b[0m\n",
      "\u001b[1;31mValueError\u001b[0m: Shapes (256,) and (512,) are incompatible"
     ]
    }
   ],
   "source": [
    "\n",
    "#time.sleep(5)\n",
    "\n",
    "#path = \"results\\\\default\\\\models\\\\{}_{}\"\n",
    "path = \"results\\\\exp_0\\\\models\\\\{}_{}\"\n",
    "   \n",
    "goto(motor_axis, x_zero)\n",
    "\n",
    "encoder_axis.encoder.config.bandwidth = 1000\n",
    "\n",
    "actor = Actor(env)\n",
    "actor.load_primitive(path)\n",
    "actor.load_influence(path)\n",
    "\n",
    "init_state = actor.get_init_state(env.num_envs)\n",
    "all_states = []\n",
    "all_time = []\n",
    "all_cmd = []\n",
    "all_obs = []\n",
    "all_dt = []\n",
    "\n",
    "start_time = time.time()\n",
    "last_time = time.time()\n",
    "\n",
    "is_ready = False\n",
    "while not is_ready:\n",
    "    x, v, a, w = get_state(motor_axis, encoder_axis, x_zero, a_zero) \n",
    "    is_ready = np.cos(a) > 1-0.01\n",
    "    is_ready = is_ready or False\n",
    "\n",
    "setup_vel_cmd (motor_axis)\n",
    "\n",
    "has_failed = False\n",
    "for i in range(100):\n",
    "    x, v, a, w = get_state(motor_axis, encoder_axis, x_zero, a_zero) \n",
    "    e = env.calc_e(x, v, a, w)\n",
    "    env.stack_obs(x, v, a, w, e, x, v, a, w, e)\n",
    "    if i > 3:\n",
    "        step_start = time.time()\n",
    "        obs = env.calc_obs(x, v, a, w, e)\n",
    "        obs = np.expand_dims(np.asarray(obs, dtype=np.float32), axis=1)\n",
    "        \n",
    "        act = actor.model((obs, init_state))[0].numpy()\n",
    "        #act = act + np.random.normal(size=act.flatten().shape[0]).reshape(act.shape) * np.exp(-3)\n",
    "        \n",
    "        v_cmd = (act[0, 0, 0]*2-1) * env.v_max\n",
    "        #v_cmd = env.v_max * (2*((i//50)%2)-1)*0.3\n",
    "        #print(v_cmd)\n",
    "        #v_cmd = 0\n",
    "        \n",
    "        #time.sleep(0.0075-0.0035)\n",
    "        if not set_vel_cmd (motor_axis, v_cmd, safe_min, safe_max) and not has_failed:\n",
    "            has_failed = True\n",
    "            print(\"failed\")\n",
    "        all_dt.append(time.time()-step_start)\n",
    "        \n",
    "        all_states.append((x, v, a, w, e))\n",
    "        all_time.append(time.time()-start_time)\n",
    "        all_cmd.append((v_cmd, ))\n",
    "        all_obs.append(obs)\n",
    "    tau = 0.03\n",
    "    #tau = 0.0075*2\n",
    "    \n",
    "    while time.time()-last_time < tau - 0.0005:\n",
    "        pass\n",
    "    \n",
    "    last_time = time.time()\n",
    "\n",
    "motor_axis.requested_state = AXIS_STATE_IDLE\n",
    "    \n",
    "    \n",
    "print(np.mean(all_dt))\n",
    "all_dt = np.asarray(all_time)[1:] - np.asarray(all_time)[:-1]\n",
    "print(\"max_dt :\", np.max(all_dt))\n",
    "print(\"mean_dt :\", np.mean(all_dt))\n",
    "        \n",
    "for i, obs in enumerate(np.asarray(all_obs).reshape((-1, env.obs_dim)).T):\n",
    "    plt.plot(obs, label=str(i))\n",
    "#plt.legend()\n",
    "plt.show()\n",
    "\n",
    "for i in range(5):\n",
    "    plt.plot(all_time, [s[i] for s in all_states])\n",
    "plt.show()\n",
    "\n",
    "for i in range(1):\n",
    "    plt.plot(all_time, [cmd[i] for cmd in all_cmd])\n",
    "plt.show()\n"
   ]
  },
  {
   "cell_type": "code",
   "execution_count": 22,
   "metadata": {},
   "outputs": [
    {
     "data": {
      "image/png": "[encoded data removed]",
      "text/plain": [
       "<Figure size 432x288 with 1 Axes>"
      ]
     },
     "metadata": {
      "needs_background": "light"
     },
     "output_type": "display_data"
    },
    {
     "name": "stdout",
     "output_type": "stream",
     "text": [
      "0.014307476741644112\n"
     ]
    },
    {
     "data": {
      "image/png": "[encoded data removed]",
      "text/plain": [
       "<Figure size 432x288 with 1 Axes>"
      ]
     },
     "metadata": {
      "needs_background": "light"
     },
     "output_type": "display_data"
    }
   ],
   "source": [
    "\n",
    "for i in [0, 1]:\n",
    "    plt.plot(all_time, [s[i] for s in all_states])\n",
    "plt.show()\n",
    "\n",
    "print(np.max([x[4] for x in all_states]))\n",
    "\n",
    "for i in range(1):\n",
    "    plt.plot(all_time, [cmd[i] for cmd in all_cmd])\n",
    "plt.show()"
   ]
  }
 ],
 "metadata": {
  "kernelspec": {
   "display_name": "Python 3",
   "language": "python",
   "name": "python3"
  },
  "language_info": {
   "codemirror_mode": {
    "name": "ipython",
    "version": 3
   },
   "file_extension": ".py",
   "mimetype": "text/x-python",
   "name": "python",
   "nbconvert_exporter": "python",
   "pygments_lexer": "ipython3",
   "version": "3.7.7"
  }
 },
 "nbformat": 4,
 "nbformat_minor": 4
}
